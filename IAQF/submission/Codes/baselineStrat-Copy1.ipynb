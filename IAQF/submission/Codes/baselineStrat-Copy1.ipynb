{
 "cells": [
  {
   "cell_type": "code",
   "execution_count": null,
   "id": "fe12628f",
   "metadata": {},
   "outputs": [],
   "source": [
    "import pandas as pd\n",
    "import numpy as np\n",
    "import matplotlib.pyplot as plt\n",
    "from scipy import stats\n",
    "import seaborn as sns\n",
    "from hurst import compute_Hc\n",
    "import statsmodels.tsa.stattools as ts\n",
    "import statsmodels.api as sm\n",
    "from statsmodels.tsa.stattools import adfuller\n",
    "import scipy.optimize as spop\n",
    "from sklearn.linear_model import LinearRegression\n",
    "from statistics import mean\n",
    "import json"
   ]
  },
  {
   "cell_type": "code",
   "execution_count": null,
   "id": "1877cf54",
   "metadata": {},
   "outputs": [],
   "source": [
    "\n",
    "with open('stat_pairs.json', 'r') as f:\n",
    "    selected_pairs_3 = json.load(f)"
   ]
  },
  {
   "cell_type": "code",
   "execution_count": null,
   "id": "6c6953f1",
   "metadata": {},
   "outputs": [],
   "source": [
    "plt.style.use('seaborn')\n",
    "sns.set_style('darkgrid')\n",
    "prices = pd.read_csv('etfs.csv')\n",
    "#prices.columns\n",
    "prices['Date'] = pd.to_datetime(prices['Date'])\n",
    "prices = prices.set_index('Date')\n",
    "prices = prices.dropna(axis=1)\n",
    "prices.head()\n",
    "returns = np.log(prices).diff().dropna()"
   ]
  },
  {
   "cell_type": "code",
   "execution_count": null,
   "id": "d8150b1c",
   "metadata": {},
   "outputs": [],
   "source": [
    "P_VALUE_THRESHOLD = 0.05\n",
    "HURST_THRESHOLD = 0.5\n",
    "TRADING_PERIOD = 253"
   ]
  },
  {
   "cell_type": "code",
   "execution_count": null,
   "id": "3d6df956",
   "metadata": {},
   "outputs": [],
   "source": [
    "form_start = '2011-01-01'\n",
    "form_end = '2016-12-31'\n",
    "trade_start = '2017-01-01'\n",
    "trade_end = '2019-12-31'\n",
    "\n",
    "prices_form = prices[form_start:form_end]\n",
    "prices_trade = prices[trade_start:trade_end]\n",
    "returns_form = returns.loc[form_start:form_end]\n",
    "returns_trade = returns.loc[trade_start:trade_end]"
   ]
  },
  {
   "cell_type": "code",
   "execution_count": null,
   "id": "3aa847b9",
   "metadata": {},
   "outputs": [],
   "source": [
    "start = trade_start\n",
    "end = trade_end\n",
    "fee = 0\n",
    "window = 252\n",
    "t_threshold = -2.5"
   ]
  },
  {
   "cell_type": "code",
   "execution_count": null,
   "id": "b88e080c",
   "metadata": {},
   "outputs": [],
   "source": [
    "#helper funcs\n",
    "def parse_pair(pair):\n",
    "    s1 = pair[:pair.find('-')]\n",
    "    s2 = pair[pair.find('-')+1:]\n",
    "    return s1,s2\n",
    "\n",
    "def calculate_metrics(cumret):\n",
    "    \n",
    "        total_return = (cumret[-1] - cumret[0])/cumret[0]\n",
    "        apr = (1+total_return)**(252/len(cumret)) - 1\n",
    "        rets = pd.DataFrame(cumret).pct_change()\n",
    "        sharpe = np.sqrt(252) * np.nanmean(rets) / np.nanstd(rets)\n",
    "    \n",
    "        highwatermark=np.zeros(cumret.shape)\n",
    "        drawdown=np.zeros(cumret.shape)\n",
    "        drawdownduration=np.zeros(cumret.shape)\n",
    "        for t in np.arange(1, cumret.shape[0]):\n",
    "            highwatermark[t]=np.maximum(highwatermark[t-1], cumret[t])\n",
    "            drawdown[t]=cumret[t]/highwatermark[t]-1\n",
    "            if drawdown[t]==0:\n",
    "                drawdownduration[t]=0\n",
    "            else:\n",
    "                drawdownduration[t]=drawdownduration[t-1]+1\n",
    "        maxDD=np.min(drawdown)\n",
    "        maxDDD=np.max(drawdownduration)\n",
    "    \n",
    "        return total_return, sharpe, maxDD"
   ]
  },
  {
   "cell_type": "code",
   "execution_count": null,
   "id": "668b984b",
   "metadata": {},
   "outputs": [],
   "source": [
    "def baseline(selected_pairs_3, returns_form, trade_start,trade_end):\n",
    "    data = returns_form\n",
    "    print(selected_pairs_3)\n",
    "    \n",
    "    \n",
    "    \n",
    "    \n",
    "    start = trade_start\n",
    "    end = trade_end\n",
    "    fee = 0\n",
    "    window = 252\n",
    "    t_threshold = -2.5\n",
    "    \n",
    "    #initialising arrays\n",
    "\n",
    "    gross_returns = np.array([])\n",
    "    net_returns = np.array([])\n",
    "    t_s = np.array([])\n",
    "    stock1, stock2 = parse_pair(selected_pairs_3)\n",
    "    data = data[start:end]\n",
    "    #print(data)\n",
    "#moving through the sample\n",
    "    for t in range(window, len(data)):\n",
    "    #defining the unit root function: stock2 = a + b*stock1\n",
    "        def unit_root(b):\n",
    "            a = np.average(data[stock2][t-window:t] - b*data[stock1][t-window:t])\n",
    "            fair_value = a + b*data[stock1][t-window:t]\n",
    "            diff = np.array(fair_value - data[stock2][t-window:t])\n",
    "            diff_diff = diff[1:] - diff[:-1]\n",
    "            reg = sm.OLS(diff_diff, diff[:-1])\n",
    "            res = reg.fit()\n",
    "            return res.params[0]/res.bse[0]\n",
    "    #optimising the cointegration equation parameters\n",
    "        res1 = spop.minimize(unit_root, data[stock2][t]/data[stock1][t], method='Nelder-Mead')\n",
    "        t_opt = res1.fun\n",
    "        b_opt = float(res1.x)\n",
    "        a_opt = np.average(data[stock2][t-window:t] - b_opt*data[stock1][t-window:t])\n",
    "    #simulating trading\n",
    "        fair_value = a_opt + b_opt*data[stock1][t]\n",
    "        if t == window:\n",
    "            old_signal = 0\n",
    "        if t_opt > t_threshold:\n",
    "            signal = 0\n",
    "            gross_return = 0\n",
    "        else:\n",
    "            signal = np.sign(fair_value - data[stock2][t])\n",
    "            gross_return = signal*returns[stock2][t] - signal*returns[stock1][t]\n",
    "        fees = fee*abs(signal - old_signal)\n",
    "        net_return = gross_return - fees\n",
    "        gross_returns = np.append(gross_returns, gross_return)\n",
    "        net_returns = np.append(net_returns, net_return)\n",
    "        t_s = np.append(t_s, t_opt)\n",
    "    return calculate_metrics(np.nancumprod(net_returns + 1))"
   ]
  },
  {
   "cell_type": "code",
   "execution_count": null,
   "id": "3077c3af",
   "metadata": {},
   "outputs": [],
   "source": [
    "rets = []\n",
    "sharpes = []\n",
    "maxdd = []\n",
    "\n",
    "\n",
    "\n",
    "for pair in selected_pairs_3:\n",
    "    x = baseline(pair, prices_trade, trade_start,trade_end)\n",
    "    rets.append(x[0])\n",
    "    sharpes.append(x[1])\n",
    "    maxdd.append(x[2])\n",
    "    \n"
   ]
  },
  {
   "cell_type": "code",
   "execution_count": null,
   "id": "8c7e9f8a",
   "metadata": {},
   "outputs": [],
   "source": [
    "print(mean(rets))\n",
    "print(mean(sharpes))\n",
    "print(mean(maxdd))\n"
   ]
  },
  {
   "cell_type": "code",
   "execution_count": null,
   "id": "f56c979c",
   "metadata": {},
   "outputs": [],
   "source": []
  }
 ],
 "metadata": {
  "kernelspec": {
   "display_name": "Python 3 (ipykernel)",
   "language": "python",
   "name": "python3"
  },
  "language_info": {
   "codemirror_mode": {
    "name": "ipython",
    "version": 3
   },
   "file_extension": ".py",
   "mimetype": "text/x-python",
   "name": "python",
   "nbconvert_exporter": "python",
   "pygments_lexer": "ipython3",
   "version": "3.9.12"
  }
 },
 "nbformat": 4,
 "nbformat_minor": 5
}
