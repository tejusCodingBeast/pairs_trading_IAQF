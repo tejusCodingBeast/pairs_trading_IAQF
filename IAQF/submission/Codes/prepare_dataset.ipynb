{
 "cells": [
  {
   "cell_type": "code",
   "execution_count": 1,
   "id": "bbe8c49b",
   "metadata": {},
   "outputs": [
    {
     "name": "stdout",
     "output_type": "stream",
     "text": [
      "stock_list: ['SPY', 'IVV', 'VTI', 'QQQ', 'VEA', 'VTV', 'VUG', 'VWO', 'IJR', 'IJH', 'VIG', 'IWF', 'IWM', 'VO', 'VYM', 'EFA', 'VB', 'VGT', 'XLE', 'ITOT', 'XLV', 'XLK', 'RSP', 'VEU', 'XLF', 'SCHX', 'DIA', 'IVW', 'IWR', 'IWB', 'VT', 'VBR', 'EEM', 'IVE', 'VV', 'SDY', 'DVY', 'SCHB', 'MDY', 'ACWI', 'VGK', 'VHT', 'VOE', 'XLP', 'EFV', 'SPYV', 'SPLG', 'XLU', 'SPDW', 'SCHG', 'SCHA', 'SPYG', 'VXF', 'XLY', 'XLI', 'GDX', 'IWS', 'IUSV', 'VBK', 'FVD', 'IWN', 'IWP', 'IUSG', 'SCZ', 'EFG', 'IWV', 'MGK', 'SCHV', 'IWO', 'VOT', 'EWJ', 'VFH', 'IBB', 'FTCS', 'IYW', 'VDE', 'IJJ', 'VSS', 'XBI', 'IJS', 'IJK', 'OEF', 'SMH']\n",
      "[*********************100%***********************]  83 of 83 completed\n",
      "data fields downloaded: {'Adj Close', 'Open', 'High', 'Close', 'Volume', 'Low'}\n"
     ]
    }
   ],
   "source": [
    "import yfinance as yf\n",
    "stock_list = ['SPY','IVV','VTI','QQQ','VEA','VTV','VUG','VWO',  'IJR', 'IJH', 'VIG', 'IWF',\n",
    "             'IWM','VO','VYM','EFA','VB','VGT','XLE','ITOT','XLV','XLK','RSP','VEU','XLF',\n",
    "              'SCHX','DIA','IVW','IWR','IWB','VT','VBR','EEM','IVE','VV','SDY','DVY','SCHB',\n",
    "              'MDY','ACWI','VGK','VHT','VOE','XLP','EFV','SPYV','SPLG','XLU','SPDW','SCHG',\n",
    "              'SCHA','SPYG','VXF','XLY','XLI','GDX','IWS','IUSV','VBK','FVD','IWN','IWP',\n",
    "              'IUSG','SCZ','EFG','IWV','MGK','SCHV','IWO','VOT',\n",
    "              'EWJ','VFH','IBB','FTCS','IYW','VDE','IJJ','VSS','XBI','IJS','IJK','OEF','SMH']\n",
    "print('stock_list:', stock_list)\n",
    "data = yf.download(stock_list, start=\"2011-01-01\", end=\"2019-12-31\")\n",
    "print('data fields downloaded:', set(data.columns.get_level_values(0)))\n",
    "data = data['Adj Close']\n",
    "data.to_csv('etfs.csv')"
   ]
  },
  {
   "cell_type": "code",
   "execution_count": null,
   "id": "9df4e558",
   "metadata": {},
   "outputs": [],
   "source": []
  }
 ],
 "metadata": {
  "kernelspec": {
   "display_name": "Python 3 (ipykernel)",
   "language": "python",
   "name": "python3"
  },
  "language_info": {
   "codemirror_mode": {
    "name": "ipython",
    "version": 3
   },
   "file_extension": ".py",
   "mimetype": "text/x-python",
   "name": "python",
   "nbconvert_exporter": "python",
   "pygments_lexer": "ipython3",
   "version": "3.9.12"
  }
 },
 "nbformat": 4,
 "nbformat_minor": 5
}
